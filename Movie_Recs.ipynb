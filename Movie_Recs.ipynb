{
  "nbformat": 4,
  "nbformat_minor": 0,
  "metadata": {
    "colab": {
      "provenance": []
    },
    "kernelspec": {
      "name": "python3",
      "display_name": "Python 3"
    },
    "language_info": {
      "name": "python"
    }
  },
  "cells": [
    {
      "cell_type": "code",
      "execution_count": null,
      "metadata": {
        "id": "1DjcHBAvp8Jc"
      },
      "outputs": [],
      "source": [
        "import numpy as np\n",
        "import pandas as pd\n",
        "from sklearn.feature_extraction.text import TfidfVectorizer\n",
        "from sklearn.metrics.pairwise import cosine_similarity"
      ]
    },
    {
      "cell_type": "code",
      "source": [
        "data = pd.read_csv(\"watched.csv\")"
      ],
      "metadata": {
        "id": "EMgEc_WT2wyt"
      },
      "execution_count": null,
      "outputs": []
    },
    {
      "cell_type": "code",
      "source": [
        "data.head()"
      ],
      "metadata": {
        "id": "QHTMZg3J2wtX"
      },
      "execution_count": null,
      "outputs": []
    },
    {
      "cell_type": "code",
      "source": [
        "data = data[[\"Title\", \"Country\", \"Plot\"]]"
      ],
      "metadata": {
        "id": "gnmETg6E2wgD"
      },
      "execution_count": null,
      "outputs": []
    },
    {
      "cell_type": "code",
      "source": [
        "data[\"Plot\"].isna().sum()"
      ],
      "metadata": {
        "id": "POFIjB8B27M2"
      },
      "execution_count": null,
      "outputs": []
    },
    {
      "cell_type": "code",
      "source": [
        "# data [\"Plot\"] = data[\"Plot\"].fillna(\" \")"
      ],
      "metadata": {
        "id": "yTpvaOpA27H8"
      },
      "execution_count": null,
      "outputs": []
    },
    {
      "cell_type": "code",
      "source": [
        "data.dropna(inplace=True)"
      ],
      "metadata": {
        "id": "siFdrhXl3Jd_"
      },
      "execution_count": null,
      "outputs": []
    },
    {
      "cell_type": "code",
      "source": [
        "tfidf = TfidfVectorizer(stop_words=\"english\")"
      ],
      "metadata": {
        "id": "VoogwXFi3P7y"
      },
      "execution_count": null,
      "outputs": []
    },
    {
      "cell_type": "code",
      "source": [
        "overview_matrix=tfidf.fit_transform(data[\"Plot\"])"
      ],
      "metadata": {
        "id": "1fEWRIqn3P5V"
      },
      "execution_count": null,
      "outputs": []
    },
    {
      "cell_type": "code",
      "source": [
        "overview_matrix.toarray()"
      ],
      "metadata": {
        "id": "ivhyEHjG3PzM"
      },
      "execution_count": null,
      "outputs": []
    },
    {
      "cell_type": "code",
      "source": [
        "similarity_matrix = cosine_similarity(overview_matrix)"
      ],
      "metadata": {
        "id": "Xl1tCF873pBL"
      },
      "execution_count": null,
      "outputs": []
    },
    {
      "cell_type": "code",
      "source": [
        "similarity_matrix"
      ],
      "metadata": {
        "id": "uY5hcQ5p3o-q"
      },
      "execution_count": null,
      "outputs": []
    },
    {
      "cell_type": "code",
      "source": [
        "movie1 = \"The Stranded\""
      ],
      "metadata": {
        "id": "BM7SZTlp3o5z"
      },
      "execution_count": null,
      "outputs": []
    },
    {
      "cell_type": "code",
      "source": [
        "movie_index = list(data[\"Title\"]).index(movie1)"
      ],
      "metadata": {
        "id": "GP2bSeHu3Jbi"
      },
      "execution_count": null,
      "outputs": []
    },
    {
      "cell_type": "code",
      "source": [
        "similarity_matrix[movie_index]"
      ],
      "metadata": {
        "id": "4t6FcGHD3-Em"
      },
      "execution_count": null,
      "outputs": []
    },
    {
      "cell_type": "code",
      "source": [
        "list(enumerate(similarity_matrix[movie_index]))"
      ],
      "metadata": {
        "id": "E8a4ZjXJ3-CL"
      },
      "execution_count": null,
      "outputs": []
    },
    {
      "cell_type": "code",
      "source": [
        "similarity_score = list(enumerate(similarity_matrix[movie_index]))"
      ],
      "metadata": {
        "id": "48ZVtEuk4K0t"
      },
      "execution_count": null,
      "outputs": []
    },
    {
      "cell_type": "code",
      "source": [
        "similarity_score = sorted(similarity_score, key=lambda x: x[1], reverse = True)"
      ],
      "metadata": {
        "id": "HFJtCF2q4KyP"
      },
      "execution_count": null,
      "outputs": []
    },
    {
      "cell_type": "code",
      "source": [
        "similarity_score = similarity_score [:10]"
      ],
      "metadata": {
        "id": "8ZPuGBiO4iNu"
      },
      "execution_count": null,
      "outputs": []
    },
    {
      "cell_type": "code",
      "source": [
        "similarity_score"
      ],
      "metadata": {
        "id": "fpq0rQxM4iLR"
      },
      "execution_count": null,
      "outputs": []
    },
    {
      "cell_type": "code",
      "source": [
        "movie_indices = [i[0] for i in similarity_score]"
      ],
      "metadata": {
        "id": "oxtYPq2Z4pIk"
      },
      "execution_count": null,
      "outputs": []
    },
    {
      "cell_type": "code",
      "source": [
        "movie_indices"
      ],
      "metadata": {
        "id": "ZjhnWoJP464G"
      },
      "execution_count": null,
      "outputs": []
    },
    {
      "cell_type": "code",
      "source": [
        "data[\"Title\"].values[movie_indices][1:]"
      ],
      "metadata": {
        "id": "tfEvdXkA48VO"
      },
      "execution_count": null,
      "outputs": []
    }
  ]
}